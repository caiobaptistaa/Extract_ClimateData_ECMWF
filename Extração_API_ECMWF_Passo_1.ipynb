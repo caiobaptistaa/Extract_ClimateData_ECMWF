{
  "nbformat": 4,
  "nbformat_minor": 0,
  "metadata": {
    "colab": {
      "name": "Extração API - ECMWF - Passo 1.ipynb",
      "provenance": [],
      "authorship_tag": "ABX9TyORgPr5hlVbCHMByqk1/UGq",
      "include_colab_link": true
    },
    "kernelspec": {
      "name": "python3",
      "display_name": "Python 3"
    },
    "language_info": {
      "name": "python"
    }
  },
  "cells": [
    {
      "cell_type": "markdown",
      "metadata": {
        "id": "view-in-github",
        "colab_type": "text"
      },
      "source": [
        "<a href=\"https://colab.research.google.com/github/caiobaptistaa/Extract_ClimateData_ECMWF/blob/main/Extra%C3%A7%C3%A3o_API_ECMWF_Passo_1.ipynb\" target=\"_parent\"><img src=\"https://colab.research.google.com/assets/colab-badge.svg\" alt=\"Open In Colab\"/></a>"
      ]
    },
    {
      "cell_type": "markdown",
      "source": [
        "Para instalar o CDS API key no seu sistema operacional (Windows, MacOS, Linux), siga as instruçoes do link abaixo:\n",
        "\n",
        "https://cds.climate.copernicus.eu/api-how-to"
      ],
      "metadata": {
        "id": "B0Ruu4M5JiVr"
      }
    },
    {
      "cell_type": "markdown",
      "source": [
        "Depois disso, é só copiar o request abaixo em qualquer IDE (Eu utilizo o Spyder), modificar o nome da variável, anos, dias, e etc. O request está disponível no final da página de cada base de dados (horária, mensal, etc). No final da página clicar em \"Show API request\".\n",
        "Abaixo segue a base dados horária e de médias mensais, respectivamente:\n",
        "\n",
        "Horária:\n",
        "https://cds.climate.copernicus.eu/cdsapp#!/dataset/reanalysis-era5-land?tab=form\n",
        "\n",
        "Mensal (média diária):\n",
        "https://cds.climate.copernicus.eu/cdsapp#!/dataset/reanalysis-era5-land-monthly-means?tab=overview"
      ],
      "metadata": {
        "id": "kZ4TBA72JuFQ"
      }
    },
    {
      "cell_type": "code",
      "source": [
        "pip install cdsapi"
      ],
      "metadata": {
        "colab": {
          "base_uri": "https://localhost:8080/"
        },
        "id": "RcDdpp_QItRJ",
        "outputId": "aa48a7ae-2568-4fbf-a87f-0fb6623c56ec"
      },
      "execution_count": 5,
      "outputs": [
        {
          "output_type": "stream",
          "name": "stdout",
          "text": [
            "Looking in indexes: https://pypi.org/simple, https://us-python.pkg.dev/colab-wheels/public/simple/\n",
            "Collecting cdsapi\n",
            "  Downloading cdsapi-0.5.1.tar.gz (12 kB)\n",
            "Requirement already satisfied: requests>=2.5.0 in /usr/local/lib/python3.7/dist-packages (from cdsapi) (2.23.0)\n",
            "Requirement already satisfied: tqdm in /usr/local/lib/python3.7/dist-packages (from cdsapi) (4.64.0)\n",
            "Requirement already satisfied: chardet<4,>=3.0.2 in /usr/local/lib/python3.7/dist-packages (from requests>=2.5.0->cdsapi) (3.0.4)\n",
            "Requirement already satisfied: idna<3,>=2.5 in /usr/local/lib/python3.7/dist-packages (from requests>=2.5.0->cdsapi) (2.10)\n",
            "Requirement already satisfied: certifi>=2017.4.17 in /usr/local/lib/python3.7/dist-packages (from requests>=2.5.0->cdsapi) (2022.6.15)\n",
            "Requirement already satisfied: urllib3!=1.25.0,!=1.25.1,<1.26,>=1.21.1 in /usr/local/lib/python3.7/dist-packages (from requests>=2.5.0->cdsapi) (1.24.3)\n",
            "Building wheels for collected packages: cdsapi\n",
            "  Building wheel for cdsapi (setup.py) ... \u001b[?25l\u001b[?25hdone\n",
            "  Created wheel for cdsapi: filename=cdsapi-0.5.1-py2.py3-none-any.whl size=11699 sha256=8ff02292abfd5b22afe6f38baa91aa4ce5b953ebe15d161fabebce698d45c7fc\n",
            "  Stored in directory: /root/.cache/pip/wheels/1d/2e/3c/3746e0cd076320584d6f47b688da7b13a5d5d1a92606779ca4\n",
            "Successfully built cdsapi\n",
            "Installing collected packages: cdsapi\n",
            "Successfully installed cdsapi-0.5.1\n"
          ]
        }
      ]
    },
    {
      "cell_type": "markdown",
      "source": [
        "Request de exemplo:"
      ],
      "metadata": {
        "id": "9uFvciYwKppv"
      }
    },
    {
      "cell_type": "code",
      "execution_count": null,
      "metadata": {
        "id": "yRYYlXt5HzIt"
      },
      "outputs": [],
      "source": [
        "import cdsapi\n",
        "\n",
        "c = cdsapi.Client()\n",
        "\n",
        "c.retrieve(\n",
        "    'reanalysis-era5-land-monthly-means',\n",
        "    {\n",
        "        'format': 'netcdf',\n",
        "        'variable': 'surface_solar_radiation_downwards',\n",
        "        'year': [\n",
        "            '1980', '1981', '1982',\n",
        "            '1983', '1984', '1985',\n",
        "            '1986', '1987', '1988',\n",
        "            '1989', '1990', '1991',\n",
        "            '1992', '1993', '1994',\n",
        "            '1995', '1996', '1997',\n",
        "            '1998', '1999', '2000',\n",
        "            '2001', '2002', '2003',\n",
        "            '2004', '2005', '2006',\n",
        "            '2007', '2008', '2009',\n",
        "            '2010', '2011', '2012',\n",
        "            '2013', '2014', '2015',\n",
        "            '2016', '2017', '2018',\n",
        "            '2019', '2020',\n",
        "        ],\n",
        "        'month': [\n",
        "            '01', '02', '03',\n",
        "            '04', '05', '06',\n",
        "            '07', '08', '09',\n",
        "            '10', '11', '12',\n",
        "        ],\n",
        "        'area': [\n",
        "            5, -74, -33,\n",
        "            -34,\n",
        "        ],\n",
        "        'product_type': 'monthly_averaged_reanalysis',\n",
        "        'time': '00:00',\n",
        "    },\n",
        "    'solar_radiation.nc')"
      ]
    },
    {
      "cell_type": "code",
      "source": [
        ""
      ],
      "metadata": {
        "id": "2VCvynFfIr8W"
      },
      "execution_count": null,
      "outputs": []
    }
  ]
}