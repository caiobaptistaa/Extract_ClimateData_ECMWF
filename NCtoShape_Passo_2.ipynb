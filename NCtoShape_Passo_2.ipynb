{
  "nbformat": 4,
  "nbformat_minor": 0,
  "metadata": {
    "colab": {
      "name": "NCtoShape - Passo 2.ipynb",
      "provenance": [],
      "collapsed_sections": [],
      "machine_shape": "hm",
      "authorship_tag": "ABX9TyOGP9Vu1OVUlunZy1edq20l",
      "include_colab_link": true
    },
    "kernelspec": {
      "name": "python3",
      "display_name": "Python 3"
    },
    "language_info": {
      "name": "python"
    },
    "accelerator": "GPU",
    "gpuClass": "standard"
  },
  "cells": [
    {
      "cell_type": "markdown",
      "metadata": {
        "id": "view-in-github",
        "colab_type": "text"
      },
      "source": [
        "<a href=\"https://colab.research.google.com/github/caiobaptistaa/Extract_ClimateData_ECMWF/blob/main/NCtoShape_Passo_2.ipynb\" target=\"_parent\"><img src=\"https://colab.research.google.com/assets/colab-badge.svg\" alt=\"Open In Colab\"/></a>"
      ]
    },
    {
      "cell_type": "markdown",
      "source": [
        "<h2> Unindo netCDF4 com Shape e criando um CSV <h2>"
      ],
      "metadata": {
        "id": "H-E6KJIuLLp-"
      }
    },
    {
      "cell_type": "code",
      "source": [
        "pip install pandas fiona shapely pyproj rtree geopandas pygeos"
      ],
      "metadata": {
        "id": "8m_ZnHHqVOXa",
        "colab": {
          "base_uri": "https://localhost:8080/"
        },
        "outputId": "fa7e8402-fb4c-4e83-9b5b-59317b49aa85"
      },
      "execution_count": null,
      "outputs": [
        {
          "output_type": "stream",
          "name": "stdout",
          "text": [
            "Looking in indexes: https://pypi.org/simple, https://us-python.pkg.dev/colab-wheels/public/simple/\n",
            "Requirement already satisfied: pandas in /usr/local/lib/python3.7/dist-packages (1.3.5)\n",
            "Requirement already satisfied: fiona in /usr/local/lib/python3.7/dist-packages (1.8.21)\n",
            "Requirement already satisfied: shapely in /usr/local/lib/python3.7/dist-packages (1.8.2)\n",
            "Requirement already satisfied: pyproj in /usr/local/lib/python3.7/dist-packages (3.2.1)\n",
            "Requirement already satisfied: rtree in /usr/local/lib/python3.7/dist-packages (1.0.0)\n",
            "Requirement already satisfied: geopandas in /usr/local/lib/python3.7/dist-packages (0.10.2)\n",
            "Requirement already satisfied: pygeos in /usr/local/lib/python3.7/dist-packages (0.12.0)\n",
            "Requirement already satisfied: numpy>=1.17.3 in /usr/local/lib/python3.7/dist-packages (from pandas) (1.21.6)\n",
            "Requirement already satisfied: python-dateutil>=2.7.3 in /usr/local/lib/python3.7/dist-packages (from pandas) (2.8.2)\n",
            "Requirement already satisfied: pytz>=2017.3 in /usr/local/lib/python3.7/dist-packages (from pandas) (2022.1)\n",
            "Requirement already satisfied: six>=1.5 in /usr/local/lib/python3.7/dist-packages (from python-dateutil>=2.7.3->pandas) (1.15.0)\n",
            "Requirement already satisfied: munch in /usr/local/lib/python3.7/dist-packages (from fiona) (2.5.0)\n",
            "Requirement already satisfied: certifi in /usr/local/lib/python3.7/dist-packages (from fiona) (2022.6.15)\n",
            "Requirement already satisfied: click-plugins>=1.0 in /usr/local/lib/python3.7/dist-packages (from fiona) (1.1.1)\n",
            "Requirement already satisfied: setuptools in /usr/local/lib/python3.7/dist-packages (from fiona) (57.4.0)\n",
            "Requirement already satisfied: cligj>=0.5 in /usr/local/lib/python3.7/dist-packages (from fiona) (0.7.2)\n",
            "Requirement already satisfied: click>=4.0 in /usr/local/lib/python3.7/dist-packages (from fiona) (7.1.2)\n",
            "Requirement already satisfied: attrs>=17 in /usr/local/lib/python3.7/dist-packages (from fiona) (21.4.0)\n",
            "Requirement already satisfied: typing-extensions>=3.7 in /usr/local/lib/python3.7/dist-packages (from rtree) (4.1.1)\n"
          ]
        }
      ]
    },
    {
      "cell_type": "code",
      "execution_count": null,
      "metadata": {
        "colab": {
          "base_uri": "https://localhost:8080/"
        },
        "id": "LEGZL8dGb0h3",
        "outputId": "c668cd47-198a-42b4-e968-ca279a4ff0ea"
      },
      "outputs": [
        {
          "output_type": "stream",
          "name": "stderr",
          "text": [
            "/usr/local/lib/python3.7/dist-packages/geopandas/_compat.py:115: UserWarning: The Shapely GEOS version (3.10.2-CAPI-1.16.0) is incompatible with the GEOS version PyGEOS was compiled with (3.10.1-CAPI-1.16.0). Conversions between both will be slow.\n",
            "  shapely_geos_version, geos_capi_version_string\n"
          ]
        }
      ],
      "source": [
        "import netCDF4 as nc4\n",
        "import numpy as np\n",
        "from osgeo import gdal,osr,ogr\n",
        "import matplotlib.pyplot as plt\n",
        "import geopandas as gpd\n",
        "import pandas as pd\n",
        "import xarray as xr\n",
        "import pygeos\n",
        "import rtree"
      ]
    },
    {
      "cell_type": "code",
      "source": [
        "from google.colab import drive\n",
        "drive.mount('/content/drive')\n",
        "#importando o shapefile\n",
        "shp = gpd.read_file(\"/content/drive/MyDrive/Climate_Data_Files/BR_Municipios_2021.shp\")\n",
        "#importando o netCDF4 extraído do ECMWF\n",
        "nc = nc4.Dataset('/content/drive/MyDrive/Artigo-Clima-Produtiv/precipitation.nc', mode='r') "
      ],
      "metadata": {
        "colab": {
          "base_uri": "https://localhost:8080/"
        },
        "id": "LMtMR1f4cOOd",
        "outputId": "84d1a644-e8fb-4f65-a03b-591a2f2e1745"
      },
      "execution_count": null,
      "outputs": [
        {
          "output_type": "stream",
          "name": "stdout",
          "text": [
            "Drive already mounted at /content/drive; to attempt to forcibly remount, call drive.mount(\"/content/drive\", force_remount=True).\n"
          ]
        }
      ]
    },
    {
      "cell_type": "code",
      "source": [
        "dataset = xr.open_dataset(xr.backends.NetCDF4DataStore(nc))\n",
        "df = dataset.to_dataframe()\n",
        "\n",
        "df = df.reset_index()"
      ],
      "metadata": {
        "id": "G6H32bCUdxvh"
      },
      "execution_count": null,
      "outputs": []
    },
    {
      "cell_type": "code",
      "source": [
        "df.head()"
      ],
      "metadata": {
        "colab": {
          "base_uri": "https://localhost:8080/",
          "height": 206
        },
        "id": "eEb6_xtKeoho",
        "outputId": "8cf30801-84af-4f5e-9510-89943ffd67b5"
      },
      "execution_count": null,
      "outputs": [
        {
          "output_type": "execute_result",
          "data": {
            "text/plain": [
              "   longitude  latitude       time        tp\n",
              "0      -74.0       5.0 1980-01-01  0.001495\n",
              "1      -74.0       5.0 1980-02-01  0.008001\n",
              "2      -74.0       5.0 1980-03-01  0.002584\n",
              "3      -74.0       5.0 1980-04-01  0.004015\n",
              "4      -74.0       5.0 1980-05-01  0.002290"
            ],
            "text/html": [
              "\n",
              "  <div id=\"df-8929d5f2-da62-4e39-aea5-020b26b154f8\">\n",
              "    <div class=\"colab-df-container\">\n",
              "      <div>\n",
              "<style scoped>\n",
              "    .dataframe tbody tr th:only-of-type {\n",
              "        vertical-align: middle;\n",
              "    }\n",
              "\n",
              "    .dataframe tbody tr th {\n",
              "        vertical-align: top;\n",
              "    }\n",
              "\n",
              "    .dataframe thead th {\n",
              "        text-align: right;\n",
              "    }\n",
              "</style>\n",
              "<table border=\"1\" class=\"dataframe\">\n",
              "  <thead>\n",
              "    <tr style=\"text-align: right;\">\n",
              "      <th></th>\n",
              "      <th>longitude</th>\n",
              "      <th>latitude</th>\n",
              "      <th>time</th>\n",
              "      <th>tp</th>\n",
              "    </tr>\n",
              "  </thead>\n",
              "  <tbody>\n",
              "    <tr>\n",
              "      <th>0</th>\n",
              "      <td>-74.0</td>\n",
              "      <td>5.0</td>\n",
              "      <td>1980-01-01</td>\n",
              "      <td>0.001495</td>\n",
              "    </tr>\n",
              "    <tr>\n",
              "      <th>1</th>\n",
              "      <td>-74.0</td>\n",
              "      <td>5.0</td>\n",
              "      <td>1980-02-01</td>\n",
              "      <td>0.008001</td>\n",
              "    </tr>\n",
              "    <tr>\n",
              "      <th>2</th>\n",
              "      <td>-74.0</td>\n",
              "      <td>5.0</td>\n",
              "      <td>1980-03-01</td>\n",
              "      <td>0.002584</td>\n",
              "    </tr>\n",
              "    <tr>\n",
              "      <th>3</th>\n",
              "      <td>-74.0</td>\n",
              "      <td>5.0</td>\n",
              "      <td>1980-04-01</td>\n",
              "      <td>0.004015</td>\n",
              "    </tr>\n",
              "    <tr>\n",
              "      <th>4</th>\n",
              "      <td>-74.0</td>\n",
              "      <td>5.0</td>\n",
              "      <td>1980-05-01</td>\n",
              "      <td>0.002290</td>\n",
              "    </tr>\n",
              "  </tbody>\n",
              "</table>\n",
              "</div>\n",
              "      <button class=\"colab-df-convert\" onclick=\"convertToInteractive('df-8929d5f2-da62-4e39-aea5-020b26b154f8')\"\n",
              "              title=\"Convert this dataframe to an interactive table.\"\n",
              "              style=\"display:none;\">\n",
              "        \n",
              "  <svg xmlns=\"http://www.w3.org/2000/svg\" height=\"24px\"viewBox=\"0 0 24 24\"\n",
              "       width=\"24px\">\n",
              "    <path d=\"M0 0h24v24H0V0z\" fill=\"none\"/>\n",
              "    <path d=\"M18.56 5.44l.94 2.06.94-2.06 2.06-.94-2.06-.94-.94-2.06-.94 2.06-2.06.94zm-11 1L8.5 8.5l.94-2.06 2.06-.94-2.06-.94L8.5 2.5l-.94 2.06-2.06.94zm10 10l.94 2.06.94-2.06 2.06-.94-2.06-.94-.94-2.06-.94 2.06-2.06.94z\"/><path d=\"M17.41 7.96l-1.37-1.37c-.4-.4-.92-.59-1.43-.59-.52 0-1.04.2-1.43.59L10.3 9.45l-7.72 7.72c-.78.78-.78 2.05 0 2.83L4 21.41c.39.39.9.59 1.41.59.51 0 1.02-.2 1.41-.59l7.78-7.78 2.81-2.81c.8-.78.8-2.07 0-2.86zM5.41 20L4 18.59l7.72-7.72 1.47 1.35L5.41 20z\"/>\n",
              "  </svg>\n",
              "      </button>\n",
              "      \n",
              "  <style>\n",
              "    .colab-df-container {\n",
              "      display:flex;\n",
              "      flex-wrap:wrap;\n",
              "      gap: 12px;\n",
              "    }\n",
              "\n",
              "    .colab-df-convert {\n",
              "      background-color: #E8F0FE;\n",
              "      border: none;\n",
              "      border-radius: 50%;\n",
              "      cursor: pointer;\n",
              "      display: none;\n",
              "      fill: #1967D2;\n",
              "      height: 32px;\n",
              "      padding: 0 0 0 0;\n",
              "      width: 32px;\n",
              "    }\n",
              "\n",
              "    .colab-df-convert:hover {\n",
              "      background-color: #E2EBFA;\n",
              "      box-shadow: 0px 1px 2px rgba(60, 64, 67, 0.3), 0px 1px 3px 1px rgba(60, 64, 67, 0.15);\n",
              "      fill: #174EA6;\n",
              "    }\n",
              "\n",
              "    [theme=dark] .colab-df-convert {\n",
              "      background-color: #3B4455;\n",
              "      fill: #D2E3FC;\n",
              "    }\n",
              "\n",
              "    [theme=dark] .colab-df-convert:hover {\n",
              "      background-color: #434B5C;\n",
              "      box-shadow: 0px 1px 3px 1px rgba(0, 0, 0, 0.15);\n",
              "      filter: drop-shadow(0px 1px 2px rgba(0, 0, 0, 0.3));\n",
              "      fill: #FFFFFF;\n",
              "    }\n",
              "  </style>\n",
              "\n",
              "      <script>\n",
              "        const buttonEl =\n",
              "          document.querySelector('#df-8929d5f2-da62-4e39-aea5-020b26b154f8 button.colab-df-convert');\n",
              "        buttonEl.style.display =\n",
              "          google.colab.kernel.accessAllowed ? 'block' : 'none';\n",
              "\n",
              "        async function convertToInteractive(key) {\n",
              "          const element = document.querySelector('#df-8929d5f2-da62-4e39-aea5-020b26b154f8');\n",
              "          const dataTable =\n",
              "            await google.colab.kernel.invokeFunction('convertToInteractive',\n",
              "                                                     [key], {});\n",
              "          if (!dataTable) return;\n",
              "\n",
              "          const docLinkHtml = 'Like what you see? Visit the ' +\n",
              "            '<a target=\"_blank\" href=https://colab.research.google.com/notebooks/data_table.ipynb>data table notebook</a>'\n",
              "            + ' to learn more about interactive tables.';\n",
              "          element.innerHTML = '';\n",
              "          dataTable['output_type'] = 'display_data';\n",
              "          await google.colab.output.renderOutput(dataTable, element);\n",
              "          const docLink = document.createElement('div');\n",
              "          docLink.innerHTML = docLinkHtml;\n",
              "          element.appendChild(docLink);\n",
              "        }\n",
              "      </script>\n",
              "    </div>\n",
              "  </div>\n",
              "  "
            ]
          },
          "metadata": {},
          "execution_count": 5
        }
      ]
    },
    {
      "cell_type": "code",
      "source": [
        "# use geopandas points_from_xy() para transformar Longitude e Latitude em uma lista de objetos shapely.Point e defini-los como uma geometria enquanto cria o GeoDataFrame\n",
        "df_gdf = gpd.GeoDataFrame(df, geometry=gpd.points_from_xy(df.longitude, df.latitude))"
      ],
      "metadata": {
        "id": "kO1JQw-0dxqN"
      },
      "execution_count": null,
      "outputs": []
    },
    {
      "cell_type": "code",
      "source": [
        "print(df_gdf.head())"
      ],
      "metadata": {
        "colab": {
          "base_uri": "https://localhost:8080/"
        },
        "id": "G_l3X-jqdxpi",
        "outputId": "0e69b3e7-919d-45dc-a6a5-fcb182ce47a3"
      },
      "execution_count": null,
      "outputs": [
        {
          "output_type": "stream",
          "name": "stdout",
          "text": [
            "   longitude  latitude       time        tp                   geometry\n",
            "0      -74.0       5.0 1980-01-01  0.001495  POINT (-74.00000 5.00000)\n",
            "1      -74.0       5.0 1980-02-01  0.008001  POINT (-74.00000 5.00000)\n",
            "2      -74.0       5.0 1980-03-01  0.002584  POINT (-74.00000 5.00000)\n",
            "3      -74.0       5.0 1980-04-01  0.004015  POINT (-74.00000 5.00000)\n",
            "4      -74.0       5.0 1980-05-01  0.002290  POINT (-74.00000 5.00000)\n"
          ]
        }
      ]
    },
    {
      "cell_type": "code",
      "source": [
        "# check CRS coordenadas\n",
        "shp.crs #shapefile\n",
        "df_gdf.crs #geodataframe netcdf"
      ],
      "metadata": {
        "id": "j-6PP3BpdxgM"
      },
      "execution_count": null,
      "outputs": []
    },
    {
      "cell_type": "code",
      "source": [
        "# defina as coordenadas uma iguais as outras\n",
        "# PointsGeodataframe.crs = PolygonsGeodataframe.crs\n",
        "df_gdf.crs = shp.crs"
      ],
      "metadata": {
        "id": "nkdo3iK0d5K6"
      },
      "execution_count": null,
      "outputs": []
    },
    {
      "cell_type": "code",
      "source": [
        "# check coordenadas depois defini-las umas iguais as outras\n",
        "df_gdf.crs #geodataframe netcdf"
      ],
      "metadata": {
        "colab": {
          "base_uri": "https://localhost:8080/"
        },
        "id": "_uinpwoyd64x",
        "outputId": "fbd16b14-fd62-4ef7-b29a-740cb2aa0e6e"
      },
      "execution_count": null,
      "outputs": [
        {
          "output_type": "execute_result",
          "data": {
            "text/plain": [
              "<Geographic 2D CRS: EPSG:4674>\n",
              "Name: SIRGAS 2000\n",
              "Axis Info [ellipsoidal]:\n",
              "- Lat[north]: Geodetic latitude (degree)\n",
              "- Lon[east]: Geodetic longitude (degree)\n",
              "Area of Use:\n",
              "- name: Latin America - Central America and South America - onshore and offshore. Brazil - onshore and offshore.\n",
              "- bounds: (-122.19, -59.87, -25.28, 32.72)\n",
              "Datum: Sistema de Referencia Geocentrico para las AmericaS 2000\n",
              "- Ellipsoid: GRS 1980\n",
              "- Prime Meridian: Greenwich"
            ]
          },
          "metadata": {},
          "execution_count": 10
        }
      ]
    },
    {
      "cell_type": "code",
      "source": [
        "# Recorta pontos, linhas ou geometrias de polígonos na extensão da máscara.\n",
        "mask = gpd.clip(df_gdf, shp)"
      ],
      "metadata": {
        "id": "6fAxzsIpd8k6"
      },
      "execution_count": null,
      "outputs": []
    },
    {
      "cell_type": "code",
      "source": [
        "mask.head()"
      ],
      "metadata": {
        "colab": {
          "base_uri": "https://localhost:8080/",
          "height": 206
        },
        "id": "iAAova1Qef4H",
        "outputId": "5e296605-6d69-46f1-80ef-c299bb09f564"
      },
      "execution_count": null,
      "outputs": [
        {
          "output_type": "execute_result",
          "data": {
            "text/plain": [
              "          longitude  latitude       time        tp  \\\n",
              "20707380      -63.0     -12.8 1987-01-01  0.005997   \n",
              "20707301      -63.0     -12.8 1980-06-01  0.000991   \n",
              "20707296      -63.0     -12.8 1980-01-01  0.009245   \n",
              "20707297      -63.0     -12.8 1980-02-01  0.010215   \n",
              "20707298      -63.0     -12.8 1980-03-01  0.008402   \n",
              "\n",
              "                             geometry  \n",
              "20707380  POINT (-63.00000 -12.80000)  \n",
              "20707301  POINT (-63.00000 -12.80000)  \n",
              "20707296  POINT (-63.00000 -12.80000)  \n",
              "20707297  POINT (-63.00000 -12.80000)  \n",
              "20707298  POINT (-63.00000 -12.80000)  "
            ],
            "text/html": [
              "\n",
              "  <div id=\"df-a090dd5d-28a1-460a-b643-e96f6574ef1b\">\n",
              "    <div class=\"colab-df-container\">\n",
              "      <div>\n",
              "<style scoped>\n",
              "    .dataframe tbody tr th:only-of-type {\n",
              "        vertical-align: middle;\n",
              "    }\n",
              "\n",
              "    .dataframe tbody tr th {\n",
              "        vertical-align: top;\n",
              "    }\n",
              "\n",
              "    .dataframe thead th {\n",
              "        text-align: right;\n",
              "    }\n",
              "</style>\n",
              "<table border=\"1\" class=\"dataframe\">\n",
              "  <thead>\n",
              "    <tr style=\"text-align: right;\">\n",
              "      <th></th>\n",
              "      <th>longitude</th>\n",
              "      <th>latitude</th>\n",
              "      <th>time</th>\n",
              "      <th>tp</th>\n",
              "      <th>geometry</th>\n",
              "    </tr>\n",
              "  </thead>\n",
              "  <tbody>\n",
              "    <tr>\n",
              "      <th>20707380</th>\n",
              "      <td>-63.0</td>\n",
              "      <td>-12.8</td>\n",
              "      <td>1987-01-01</td>\n",
              "      <td>0.005997</td>\n",
              "      <td>POINT (-63.00000 -12.80000)</td>\n",
              "    </tr>\n",
              "    <tr>\n",
              "      <th>20707301</th>\n",
              "      <td>-63.0</td>\n",
              "      <td>-12.8</td>\n",
              "      <td>1980-06-01</td>\n",
              "      <td>0.000991</td>\n",
              "      <td>POINT (-63.00000 -12.80000)</td>\n",
              "    </tr>\n",
              "    <tr>\n",
              "      <th>20707296</th>\n",
              "      <td>-63.0</td>\n",
              "      <td>-12.8</td>\n",
              "      <td>1980-01-01</td>\n",
              "      <td>0.009245</td>\n",
              "      <td>POINT (-63.00000 -12.80000)</td>\n",
              "    </tr>\n",
              "    <tr>\n",
              "      <th>20707297</th>\n",
              "      <td>-63.0</td>\n",
              "      <td>-12.8</td>\n",
              "      <td>1980-02-01</td>\n",
              "      <td>0.010215</td>\n",
              "      <td>POINT (-63.00000 -12.80000)</td>\n",
              "    </tr>\n",
              "    <tr>\n",
              "      <th>20707298</th>\n",
              "      <td>-63.0</td>\n",
              "      <td>-12.8</td>\n",
              "      <td>1980-03-01</td>\n",
              "      <td>0.008402</td>\n",
              "      <td>POINT (-63.00000 -12.80000)</td>\n",
              "    </tr>\n",
              "  </tbody>\n",
              "</table>\n",
              "</div>\n",
              "      <button class=\"colab-df-convert\" onclick=\"convertToInteractive('df-a090dd5d-28a1-460a-b643-e96f6574ef1b')\"\n",
              "              title=\"Convert this dataframe to an interactive table.\"\n",
              "              style=\"display:none;\">\n",
              "        \n",
              "  <svg xmlns=\"http://www.w3.org/2000/svg\" height=\"24px\"viewBox=\"0 0 24 24\"\n",
              "       width=\"24px\">\n",
              "    <path d=\"M0 0h24v24H0V0z\" fill=\"none\"/>\n",
              "    <path d=\"M18.56 5.44l.94 2.06.94-2.06 2.06-.94-2.06-.94-.94-2.06-.94 2.06-2.06.94zm-11 1L8.5 8.5l.94-2.06 2.06-.94-2.06-.94L8.5 2.5l-.94 2.06-2.06.94zm10 10l.94 2.06.94-2.06 2.06-.94-2.06-.94-.94-2.06-.94 2.06-2.06.94z\"/><path d=\"M17.41 7.96l-1.37-1.37c-.4-.4-.92-.59-1.43-.59-.52 0-1.04.2-1.43.59L10.3 9.45l-7.72 7.72c-.78.78-.78 2.05 0 2.83L4 21.41c.39.39.9.59 1.41.59.51 0 1.02-.2 1.41-.59l7.78-7.78 2.81-2.81c.8-.78.8-2.07 0-2.86zM5.41 20L4 18.59l7.72-7.72 1.47 1.35L5.41 20z\"/>\n",
              "  </svg>\n",
              "      </button>\n",
              "      \n",
              "  <style>\n",
              "    .colab-df-container {\n",
              "      display:flex;\n",
              "      flex-wrap:wrap;\n",
              "      gap: 12px;\n",
              "    }\n",
              "\n",
              "    .colab-df-convert {\n",
              "      background-color: #E8F0FE;\n",
              "      border: none;\n",
              "      border-radius: 50%;\n",
              "      cursor: pointer;\n",
              "      display: none;\n",
              "      fill: #1967D2;\n",
              "      height: 32px;\n",
              "      padding: 0 0 0 0;\n",
              "      width: 32px;\n",
              "    }\n",
              "\n",
              "    .colab-df-convert:hover {\n",
              "      background-color: #E2EBFA;\n",
              "      box-shadow: 0px 1px 2px rgba(60, 64, 67, 0.3), 0px 1px 3px 1px rgba(60, 64, 67, 0.15);\n",
              "      fill: #174EA6;\n",
              "    }\n",
              "\n",
              "    [theme=dark] .colab-df-convert {\n",
              "      background-color: #3B4455;\n",
              "      fill: #D2E3FC;\n",
              "    }\n",
              "\n",
              "    [theme=dark] .colab-df-convert:hover {\n",
              "      background-color: #434B5C;\n",
              "      box-shadow: 0px 1px 3px 1px rgba(0, 0, 0, 0.15);\n",
              "      filter: drop-shadow(0px 1px 2px rgba(0, 0, 0, 0.3));\n",
              "      fill: #FFFFFF;\n",
              "    }\n",
              "  </style>\n",
              "\n",
              "      <script>\n",
              "        const buttonEl =\n",
              "          document.querySelector('#df-a090dd5d-28a1-460a-b643-e96f6574ef1b button.colab-df-convert');\n",
              "        buttonEl.style.display =\n",
              "          google.colab.kernel.accessAllowed ? 'block' : 'none';\n",
              "\n",
              "        async function convertToInteractive(key) {\n",
              "          const element = document.querySelector('#df-a090dd5d-28a1-460a-b643-e96f6574ef1b');\n",
              "          const dataTable =\n",
              "            await google.colab.kernel.invokeFunction('convertToInteractive',\n",
              "                                                     [key], {});\n",
              "          if (!dataTable) return;\n",
              "\n",
              "          const docLinkHtml = 'Like what you see? Visit the ' +\n",
              "            '<a target=\"_blank\" href=https://colab.research.google.com/notebooks/data_table.ipynb>data table notebook</a>'\n",
              "            + ' to learn more about interactive tables.';\n",
              "          element.innerHTML = '';\n",
              "          dataTable['output_type'] = 'display_data';\n",
              "          await google.colab.output.renderOutput(dataTable, element);\n",
              "          const docLink = document.createElement('div');\n",
              "          docLink.innerHTML = docLinkHtml;\n",
              "          element.appendChild(docLink);\n",
              "        }\n",
              "      </script>\n",
              "    </div>\n",
              "  </div>\n",
              "  "
            ]
          },
          "metadata": {},
          "execution_count": 12
        }
      ]
    },
    {
      "cell_type": "code",
      "source": [
        "mask.shape"
      ],
      "metadata": {
        "id": "rFHIl_2WrEx_",
        "colab": {
          "base_uri": "https://localhost:8080/"
        },
        "outputId": "fe1e0081-d07e-4029-870c-466ee5a64340"
      },
      "execution_count": null,
      "outputs": [
        {
          "output_type": "execute_result",
          "data": {
            "text/plain": [
              "(34942824, 5)"
            ]
          },
          "metadata": {},
          "execution_count": 13
        }
      ]
    },
    {
      "cell_type": "code",
      "source": [
        "mask.to_csv(\"/content/drive/MyDrive/Artigo-Clima-Produtiv/precipitation.csv\", index = False)"
      ],
      "metadata": {
        "id": "kN0CUEqxT_b9"
      },
      "execution_count": null,
      "outputs": []
    },
    {
      "cell_type": "code",
      "source": [
        ""
      ],
      "metadata": {
        "id": "4CBrrXGSUMA1"
      },
      "execution_count": null,
      "outputs": []
    }
  ]
}